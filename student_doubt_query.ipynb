{
 "cells": [
  {
   "cell_type": "code",
   "execution_count": null,
   "id": "8b29caf4-63fe-4f95-8253-459b1dda4871",
   "metadata": {},
   "outputs": [],
   "source": [
    "pip uninstall keras\n"
   ]
  },
  {
   "cell_type": "code",
   "execution_count": null,
   "id": "63cc5102-e79c-43ad-ad02-1bae4b98df26",
   "metadata": {},
   "outputs": [],
   "source": [
    "pip install tf-keras\n"
   ]
  },
  {
   "cell_type": "code",
   "execution_count": null,
   "id": "7fa1b9d9-65a1-4b45-9333-ffe5e07befef",
   "metadata": {},
   "outputs": [],
   "source": [
    "!pip install streamlit jupyterlab\n"
   ]
  },
  {
   "cell_type": "code",
   "execution_count": null,
   "id": "d1727fe2-3da3-419d-8dc1-189adfe62278",
   "metadata": {
    "jupyter": {
     "source_hidden": true
    }
   },
   "outputs": [],
   "source": []
  },
  {
   "cell_type": "code",
   "execution_count": null,
   "id": "505ebc9f-3613-401f-9b5f-2a322e2d20e7",
   "metadata": {},
   "outputs": [],
   "source": [
    "!pip install sentence-transformers scikit-learn\n",
    "from sentence_transformers import SentenceTransformer\n",
    "from sklearn.cluster import KMeans\n",
    "model = SentenceTransformer('all-MiniLM-L6-v2')\n",
    "\n",
    "# Step 1: Collect questions from students\n",
    "def get_questions():\n",
    "    questions = []\n",
    "    print(\"Enter students' questions (Type 'done' to stop):\")\n",
    "    \n",
    "    for i in range(50):  # 50 students\n",
    "        q = input(f\"Student {i+1}: \")\n",
    "        if q.lower() == \"done\":\n",
    "            break\n",
    "        questions.append(q)\n",
    "    \n",
    "    return questions\n",
    "\n",
    "# Step 2: Group similar questions together\n",
    "\n",
    "    # Conver\n",
    "\n",
    "\n",
    "def group_questions(questions):\n",
    "    if not questions:\n",
    "        return {}\n",
    "\n",
    "\n",
    "questions = [\n",
    "    \"What is AI?\", \"How does AI work?\", \"What are AI applications?\",\n",
    "    \"Explain machine learning?\", \"What is deep learning?\", \"How does AI help in education?\",\n",
    "    \"Explain neural networks?\", \"How does AI improve automation?\", \"What are the benefits of AI?\"\n",
    "] * 6  # Simulating 50 questions\n",
    "\n",
    "grouped = group_questions(questions)\n",
    "topics = find_topics_to_repeat(grouped)\n",
    "\n",
    "if topics:\n",
    "    print(\"\\n⚠️ Topics to repeat in class:\")\n",
    "    for topic in topics:\n",
    "        print(f\"- {topic}\")\n",
    "else:\n",
    "    print(\"\\n✅ All topics are clear! No need to repeat.\")\n",
    "\n",
    "\n",
    "# Step 4: Run the program\n",
    "def main():\n",
    "    print(\"📚 Welcome to Student Question Analyzer!\")\n",
    "    \n",
    "    questions = get_questions()\n",
    "    grouped = group_questions(questions)\n",
    "    topics = find_topics_to_repeat(grouped)\n",
    "    \n",
    "    if topics:\n",
    "        print(\"\\n⚠️ Topics to repeat in class:\")\n",
    "        for topic in topics:\n",
    "            print(f\"- {topic}\")\n",
    "    else:\n",
    "        print(\"\\n✅ All topics are clear! No need to repeat.\")\n",
    "\n",
    "# Start the program\n",
    "main()"
   ]
  },
  {
   "cell_type": "code",
   "execution_count": null,
   "id": "18b89d10-4760-4be8-a809-799db2ac9865",
   "metadata": {},
   "outputs": [],
   "source": [
    "pip install streamlit\n"
   ]
  },
  {
   "cell_type": "code",
   "execution_count": null,
   "id": "069ec035-675d-4a61-8d40-c7a6b44c5869",
   "metadata": {},
   "outputs": [],
   "source": [
    "import streamlit as st\n",
    "from sentence_transformers import SentenceTransformer\n",
    "from sklearn.cluster import KMeans\n",
    "\n",
    "# Load AI model\n",
    "model = SentenceTransformer('all-MiniLM-L6-v2')\n",
    "\n",
    "# Function to group similar questions\n",
    "def group_questions(questions):\n",
    "    if not questions:\n",
    "        return {}\n",
    "\n",
    "    question_vectors = model.encode(questions)\n",
    "    num_groups = min(len(questions) // 5 + 1, 10)\n",
    "    kmeans = KMeans(n_clusters=num_groups, random_state=42)\n",
    "    labels = kmeans.fit_predict(question_vectors)\n",
    "\n",
    "    groups = {}\n",
    "    for i, label in enumerate(labels):\n",
    "        if label not in groups:\n",
    "            groups[label] = []\n",
    "        groups[label].append(questions[i])\n",
    "\n",
    "    return groups\n",
    "\n",
    "# Function to find repeated topics\n",
    "def find_topics_to_repeat(groups):\n",
    "    topics_to_repeat = []\n",
    "    for group in groups.values():\n",
    "        if len(group) > 25:\n",
    "            topics_to_repeat.append(group[0])\n",
    "    return topics_to_repeat\n",
    "\n",
    "# Streamlit UI\n",
    "st.title(\"📚 Student Question Analyzer\")\n",
    "\n",
    "questions = st.text_area(\"Enter student questions (one per line)\").split(\"\\n\")\n",
    "\n",
    "if st.button(\"Analyze Questions\"):\n",
    "    grouped = group_questions(questions)\n",
    "    topics = find_topics_to_repeat(grouped)\n",
    "\n",
    "    if topics:\n",
    "        st.warning(\"⚠️ Topics to repeat in class:\")\n",
    "        for topic in topics:\n",
    "            st.write(f\"- {topic}\")\n",
    "    else:\n",
    "        st.success(\"✅ All topics are clear! No need to repeat.\")\n"
   ]
  },
  {
   "cell_type": "code",
   "execution_count": null,
   "id": "4cef93c7-ac2e-4389-a7ae-9089fe60c30a",
   "metadata": {},
   "outputs": [],
   "source": [
    "streamlit run app.py\n"
   ]
  },
  {
   "cell_type": "code",
   "execution_count": null,
   "id": "d447ad28-55cb-4819-b6f6-87adedd81393",
   "metadata": {},
   "outputs": [],
   "source": []
  }
 ],
 "metadata": {
  "kernelspec": {
   "display_name": "Python [conda env:base] *",
   "language": "python",
   "name": "conda-base-py"
  },
  "language_info": {
   "codemirror_mode": {
    "name": "ipython",
    "version": 3
   },
   "file_extension": ".py",
   "mimetype": "text/x-python",
   "name": "python",
   "nbconvert_exporter": "python",
   "pygments_lexer": "ipython3",
   "version": "3.12.7"
  }
 },
 "nbformat": 4,
 "nbformat_minor": 5
}
